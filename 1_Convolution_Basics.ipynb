{
  "nbformat": 4,
  "nbformat_minor": 0,
  "metadata": {
    "colab": {
      "provenance": []
    },
    "kernelspec": {
      "name": "python3",
      "display_name": "Python 3"
    },
    "language_info": {
      "name": "python"
    }
  },
  "cells": [
    {
      "cell_type": "markdown",
      "source": [
        "# **BASICS OF CONVOLUTION**\n",
        "## By: Ayush Adarsh\n",
        "### Notebook no. : 1\n"
      ],
      "metadata": {
        "id": "esI1_IBafxvJ"
      }
    },
    {
      "cell_type": "markdown",
      "source": [
        "## Link to Hand-written Notes: [1-Convolution Basics](https://drive.google.com/file/d/1xi-K28EQrI8w3ooZj0RXjazjzRPlSdxp/view?usp=sharing)"
      ],
      "metadata": {
        "id": "NUfo2QW6gHv1"
      }
    },
    {
      "cell_type": "code",
      "source": [
        "import numpy as np\n",
        "import matplotlib.pyplot as plt\n",
        "from PIL import Image\n",
        "import matplotlib.image as img\n",
        "import math"
      ],
      "metadata": {
        "id": "sYCHkhStfw6v"
      },
      "execution_count": null,
      "outputs": []
    },
    {
      "cell_type": "markdown",
      "source": [
        "## Creating the Image"
      ],
      "metadata": {
        "id": "mf0m_-avHXDX"
      }
    },
    {
      "cell_type": "markdown",
      "source": [
        "### Creating a 8x8 matrix as an image"
      ],
      "metadata": {
        "id": "HWDYYWjQeodc"
      }
    },
    {
      "cell_type": "code",
      "source": [
        "image = [[100, 111, 122, 102,  58,  24,  15,  16],\n",
        " [148, 133,  97,  59,  32,  31,  53,  67],\n",
        " [210, 153,  49,   0,   1,  58, 128, 163],\n",
        " [173, 115,  15,   0,  24, 107, 187, 223],\n",
        " [ 63,  40,  10,  21,  78, 150, 209, 234],\n",
        " [  0,   3,  33,  60,  89, 136, 197, 228],\n",
        " [  0,  25,  71,  67,  39,  69, 166, 223],\n",
        " [ 12,  47,  91,  64,   4,  27, 147, 222]]\n"
      ],
      "metadata": {
        "id": "rJmqSTKME0IJ"
      },
      "execution_count": 17,
      "outputs": []
    },
    {
      "cell_type": "code",
      "source": [
        "im = Image.fromarray(np.array(image,dtype=np.uint8))\n",
        "im.save('result.png')"
      ],
      "metadata": {
        "id": "vJNKBQOPFXqy"
      },
      "execution_count": 18,
      "outputs": []
    },
    {
      "cell_type": "code",
      "source": [
        "testImage = img.imread('result.png')\n",
        "plt.imshow(testImage)"
      ],
      "metadata": {
        "colab": {
          "base_uri": "https://localhost:8080/",
          "height": 447
        },
        "id": "i-3y0B8eGcGD",
        "outputId": "a9759ff7-70dd-4651-d4c4-cd218bad0872"
      },
      "execution_count": 19,
      "outputs": [
        {
          "output_type": "execute_result",
          "data": {
            "text/plain": [
              "<matplotlib.image.AxesImage at 0x7cce2a4e6830>"
            ]
          },
          "metadata": {},
          "execution_count": 19
        },
        {
          "output_type": "display_data",
          "data": {
            "text/plain": [
              "<Figure size 640x480 with 1 Axes>"
            ],
            "image/png": "[encoded data removed]"
          },
          "metadata": {}
        }
      ]
    },
    {
      "cell_type": "markdown",
      "source": [
        "## Creating various kernels"
      ],
      "metadata": {
        "id": "Yn3rctzCHcTR"
      }
    },
    {
      "cell_type": "markdown",
      "source": [
        "### Blurring Kernel"
      ],
      "metadata": {
        "id": "BAz0B-tPHvY9"
      }
    },
    {
      "cell_type": "code",
      "source": [
        "# Kernel for box blur filter\n",
        "box_blur_kernel = np.array([[0.1111111, 0.1111111, 0.1111111],\n",
        " [0.1111111, 0.1111111, 0.1111111],\n",
        " [0.1111111, 0.1111111, 0.1111111]])"
      ],
      "metadata": {
        "id": "XNyAO_c6F_9P"
      },
      "execution_count": 20,
      "outputs": []
    },
    {
      "cell_type": "code",
      "source": [
        "im = Image.fromarray(np.array(box_blur_kernel,dtype=np.uint8))\n",
        "im.save('box_blur_kernel.png')\n",
        "testImage = img.imread('box_blur_kernel.png')\n",
        "plt.imshow(testImage)"
      ],
      "metadata": {
        "colab": {
          "base_uri": "https://localhost:8080/",
          "height": 452
        },
        "id": "bSbvXowFJvM4",
        "outputId": "ac3a34be-6464-4179-c06f-1d1d3740e7ad"
      },
      "execution_count": 22,
      "outputs": [
        {
          "output_type": "execute_result",
          "data": {
            "text/plain": [
              "<matplotlib.image.AxesImage at 0x7cce29bda8c0>"
            ]
          },
          "metadata": {},
          "execution_count": 22
        },
        {
          "output_type": "display_data",
          "data": {
            "text/plain": [
              "<Figure size 640x480 with 1 Axes>"
            ],
            "image/png": "[encoded data removed]"
          },
          "metadata": {}
        }
      ]
    },
    {
      "cell_type": "markdown",
      "source": [
        "### Sharpening Kernel"
      ],
      "metadata": {
        "id": "N05VlenvH-e2"
      }
    },
    {
      "cell_type": "code",
      "source": [
        "#kernel for sharpening\n",
        "sharp_kernel = np.array([[0, -1, 0],\n",
        "                    [-1, 5, -1],\n",
        "                    [0, -1, 0]])\n",
        ""
      ],
      "metadata": {
        "id": "AsLInRjEH8HC"
      },
      "execution_count": 24,
      "outputs": []
    },
    {
      "cell_type": "code",
      "source": [
        "im = Image.fromarray(np.array(sharp_kernel,dtype=np.uint8))\n",
        "im.save('sharp_kernel.png')\n",
        "testImage = img.imread('sharp_kernel.png')\n",
        "plt.imshow(testImage)"
      ],
      "metadata": {
        "colab": {
          "base_uri": "https://localhost:8080/",
          "height": 452
        },
        "id": "3Qd9MRQSINdP",
        "outputId": "034e4631-de0d-4594-bb0a-5fdff299bc2f"
      },
      "execution_count": 25,
      "outputs": [
        {
          "output_type": "execute_result",
          "data": {
            "text/plain": [
              "<matplotlib.image.AxesImage at 0x7cce29ae6020>"
            ]
          },
          "metadata": {},
          "execution_count": 25
        },
        {
          "output_type": "display_data",
          "data": {
            "text/plain": [
              "<Figure size 640x480 with 1 Axes>"
            ],
            "image/png": "[encoded data removed]"
          },
          "metadata": {}
        }
      ]
    },
    {
      "cell_type": "markdown",
      "source": [
        "### Prewitt operator Kernel (edge detection)\n"
      ],
      "metadata": {
        "id": "5wCH4ZRYKHgI"
      }
    },
    {
      "cell_type": "markdown",
      "source": [
        "\n",
        "\n",
        "*   Iy kernel detects edges in the horizontal direction\n",
        "*   Ix kernel detects edges in the vertical direction\n",
        "\n"
      ],
      "metadata": {
        "id": "ygJStcvdMctY"
      }
    },
    {
      "cell_type": "code",
      "source": [
        "Ix= np.array([\n",
        "    [-1, 0, 1],\n",
        "    [-1, 0, 1],\n",
        "    [-1, 0, 1]])\n"
      ],
      "metadata": {
        "id": "eAhLc5OsJ_ZP"
      },
      "execution_count": 33,
      "outputs": []
    },
    {
      "cell_type": "code",
      "source": [
        "# Normalize to 0-255 for visualization\n",
        "Ix_normalized = (Ix - Ix.min()) / (Ix.max() - Ix.min()) * 255\n",
        "\n",
        "plt.imshow(Ix_normalized, cmap='gray', interpolation='nearest')\n",
        "plt.colorbar(label=\"Pixel Intensity\")\n",
        "plt.title(\"Prewitt Kernel (Ix)\")\n",
        "plt.show()"
      ],
      "metadata": {
        "colab": {
          "base_uri": "https://localhost:8080/",
          "height": 452
        },
        "id": "c48g0IKjLrMS",
        "outputId": "857b0423-d68e-4bf4-d1d2-ab39893163d9"
      },
      "execution_count": 34,
      "outputs": [
        {
          "output_type": "display_data",
          "data": {
            "text/plain": [
              "<Figure size 640x480 with 2 Axes>"
            ],
            "image/png": "[encoded data removed]"
          },
          "metadata": {}
        }
      ]
    },
    {
      "cell_type": "code",
      "source": [
        "im = Image.fromarray(np.array(Ix_normalized,dtype=np.uint8))\n",
        "im.save('prewitt_x_grad.png')"
      ],
      "metadata": {
        "id": "VtBGaD91MEwT"
      },
      "execution_count": 36,
      "outputs": []
    },
    {
      "cell_type": "code",
      "source": [
        "Iy =np.array( [\n",
        "    [-1, -1, -1],\n",
        "    [ 0,  0,  0],\n",
        "    [ 1,  1,  1]\n",
        "])"
      ],
      "metadata": {
        "id": "1Ug8Roo3Kijx"
      },
      "execution_count": 42,
      "outputs": []
    },
    {
      "cell_type": "code",
      "source": [
        "# Normalize to 0-255 for visualization\n",
        "Iy_normalized = (Iy - Iy.min()) / (Iy.max() - Iy.min()) * 255\n",
        "\n",
        "plt.imshow(Iy_normalized, cmap='gray', interpolation='nearest')\n",
        "plt.colorbar(label=\"Pixel Intensity\")\n",
        "plt.title(\"Prewitt Kernel (Iy)\")\n",
        "plt.show()"
      ],
      "metadata": {
        "colab": {
          "base_uri": "https://localhost:8080/",
          "height": 452
        },
        "id": "p3UOzee6Ko3n",
        "outputId": "4cf332a1-be23-498a-8fd7-c35346a0e189"
      },
      "execution_count": 43,
      "outputs": [
        {
          "output_type": "display_data",
          "data": {
            "text/plain": [
              "<Figure size 640x480 with 2 Axes>"
            ],
            "image/png": "[encoded data removed]"
          },
          "metadata": {}
        }
      ]
    },
    {
      "cell_type": "code",
      "source": [
        "im = Image.fromarray(np.array(Iy_normalized,dtype=np.uint8))\n",
        "im.save('prewitt_y_grad.png')"
      ],
      "metadata": {
        "id": "K9smZYBKMAdx"
      },
      "execution_count": 44,
      "outputs": []
    },
    {
      "cell_type": "markdown",
      "source": [
        "## Creating a simple convolution operation"
      ],
      "metadata": {
        "id": "yomj-KKcM-oU"
      }
    },
    {
      "cell_type": "code",
      "source": [
        "matrix1 = np.array([\n",
        "    [0, 1, 2, 3],\n",
        "    [4, 5, 6, 7],\n",
        "    [8, 9, 10, 11],\n",
        "    [12, 13, 14, 15]\n",
        "])\n"
      ],
      "metadata": {
        "id": "TKoF0DUWNEPt"
      },
      "execution_count": 94,
      "outputs": []
    },
    {
      "cell_type": "markdown",
      "source": [
        "### taking  sub-matrices using for loop\n",
        "\n",
        "\n"
      ],
      "metadata": {
        "id": "wo5Q7O7taKvO"
      }
    },
    {
      "cell_type": "code",
      "source": [
        "print(matrix1[0:2,1:3])"
      ],
      "metadata": {
        "colab": {
          "base_uri": "https://localhost:8080/"
        },
        "id": "qt3Q_2NvZyaa",
        "outputId": "cb96b9c9-49b1-444b-d172-cd38a62e3d47"
      },
      "execution_count": 95,
      "outputs": [
        {
          "output_type": "stream",
          "name": "stdout",
          "text": [
            "[[1 2]\n",
            " [5 6]]\n"
          ]
        }
      ]
    },
    {
      "cell_type": "code",
      "source": [
        "for i in range(3): # i= row-number\n",
        "  for j in range(3):  #j = column-number\n",
        "    sub_matrix = matrix1[i:i+2,j:j+2]\n",
        "    print(sub_matrix)\n",
        "    print(\"-------------------------------\")\n",
        "\n",
        ""
      ],
      "metadata": {
        "colab": {
          "base_uri": "https://localhost:8080/"
        },
        "id": "xf8fxoIVaPas",
        "outputId": "9abcce54-7c32-48ac-fe78-ed4165d42501"
      },
      "execution_count": 100,
      "outputs": [
        {
          "output_type": "stream",
          "name": "stdout",
          "text": [
            "[[0 1]\n",
            " [4 5]]\n",
            "-------------------------------\n",
            "[[1 2]\n",
            " [5 6]]\n",
            "-------------------------------\n",
            "[[2 3]\n",
            " [6 7]]\n",
            "-------------------------------\n",
            "[[4 5]\n",
            " [8 9]]\n",
            "-------------------------------\n",
            "[[ 5  6]\n",
            " [ 9 10]]\n",
            "-------------------------------\n",
            "[[ 6  7]\n",
            " [10 11]]\n",
            "-------------------------------\n",
            "[[ 8  9]\n",
            " [12 13]]\n",
            "-------------------------------\n",
            "[[ 9 10]\n",
            " [13 14]]\n",
            "-------------------------------\n",
            "[[10 11]\n",
            " [14 15]]\n",
            "-------------------------------\n"
          ]
        }
      ]
    },
    {
      "cell_type": "markdown",
      "source": [
        "### Understanding Dimensions of input,kernel and output"
      ],
      "metadata": {
        "id": "AFreozgkbRx6"
      }
    },
    {
      "cell_type": "code",
      "source": [
        "print(len(matrix1))\n",
        "print(len(matrix1[0]))"
      ],
      "metadata": {
        "colab": {
          "base_uri": "https://localhost:8080/"
        },
        "id": "EGhK4eiYNeAt",
        "outputId": "f48dab3d-2fbb-46a3-bdd0-d51ed45ff19d"
      },
      "execution_count": 75,
      "outputs": [
        {
          "output_type": "stream",
          "name": "stdout",
          "text": [
            "4\n",
            "4\n"
          ]
        }
      ]
    },
    {
      "cell_type": "code",
      "source": [
        "print(f\"size of matrix is: {len(matrix1)}x{len(matrix1[0])}\")"
      ],
      "metadata": {
        "colab": {
          "base_uri": "https://localhost:8080/"
        },
        "id": "PlgqWZBvNtyW",
        "outputId": "708cf304-1226-4f7a-e4b3-92ccd36c2f9f"
      },
      "execution_count": 76,
      "outputs": [
        {
          "output_type": "stream",
          "name": "stdout",
          "text": [
            "size of matrix is: 4x4\n"
          ]
        }
      ]
    },
    {
      "cell_type": "code",
      "source": [
        "kernel1 = [[.5, 0],\n",
        "          [.1, 8]]"
      ],
      "metadata": {
        "id": "eRVHqNIZNRy7"
      },
      "execution_count": 79,
      "outputs": []
    },
    {
      "cell_type": "code",
      "source": [
        "print(f\"size of kernel is: {len(kernel1)}x{len(kernel1[0])}\")"
      ],
      "metadata": {
        "colab": {
          "base_uri": "https://localhost:8080/"
        },
        "id": "mXsxNbU8NtAv",
        "outputId": "5946265e-ca4a-4204-9dce-8afbf5271a9a"
      },
      "execution_count": 80,
      "outputs": [
        {
          "output_type": "stream",
          "name": "stdout",
          "text": [
            "size of kernel is: 2x2\n"
          ]
        }
      ]
    },
    {
      "cell_type": "markdown",
      "source": [
        "### Formula to Find Output Size\n",
        "The size of the output matrix when applying a kernel (filter) to an input matrix with a given stride and no padding is:\n",
        "\n",
        "$$\n",
        "\\text{Output Size (Height or Width)} = \\left\\lfloor \\frac{\\text{Input Size} - \\text{Kernel Size}}{\\text{Stride}} \\right\\rfloor + 1\n",
        "$$\n",
        "\n",
        "#### Where:\n",
        "- **Input Size**: The height or width of the input matrix.\n",
        "- **Kernel Size**: The height or width of the kernel (assumed square for simplicity).\n",
        "- **Stride**: The step size by which the kernel moves across the matrix.\n",
        "- **Output Size**: The height or width of the resulting output matrix.\n"
      ],
      "metadata": {
        "id": "VYsZngrjRBEb"
      }
    },
    {
      "cell_type": "markdown",
      "source": [
        "Taking GIF (greatest integer function) of a number.\n",
        "GIF is the floor of the number"
      ],
      "metadata": {
        "id": "nEzBVHTxe5eD"
      }
    },
    {
      "cell_type": "code",
      "source": [
        "print(f\"GIF of number 6.8 is:  {int(math.floor(6.8))}\")\n",
        "print(f\"GIF of number 6 is:  {int(math.floor(6))}\")\n",
        "print(f\"GIF of number 6.1 is:  {int(math.floor(6.1))}\")\n",
        "print(f\"GIF of number 7.1 is:  {int(math.floor(7.1))}\")"
      ],
      "metadata": {
        "colab": {
          "base_uri": "https://localhost:8080/"
        },
        "id": "K57w0QVIe4FY",
        "outputId": "5c1e5d97-4736-47c5-c6b2-98bcc04d9e5c"
      },
      "execution_count": 113,
      "outputs": [
        {
          "output_type": "stream",
          "name": "stdout",
          "text": [
            "GIF of number 6.8 is:  6\n",
            "GIF of number 6 is:  6\n",
            "GIF of number 6.1 is:  6\n",
            "GIF of number 7.1 is:  7\n"
          ]
        }
      ]
    },
    {
      "cell_type": "code",
      "source": [
        "def output_size(input_dim,kernel_dim,stride):\n",
        "  return (int(math.floor((input_dim-kernel_dim)/stride)))+1"
      ],
      "metadata": {
        "id": "KVTZiTrlShEp"
      },
      "execution_count": 69,
      "outputs": []
    },
    {
      "cell_type": "markdown",
      "source": [
        "## The Convolution Function"
      ],
      "metadata": {
        "id": "PTkD7hyKbZl4"
      }
    },
    {
      "cell_type": "code",
      "source": [
        "def convolution(matrix, kernel):\n",
        "    matrix = np.array(matrix)\n",
        "    kernel = np.array(kernel)\n",
        "\n",
        "    kernel_length = len(kernel[0])\n",
        "    kernel_breadth = len(kernel)\n",
        "    matrix_length = len(matrix[0])\n",
        "    matrix_breadth = len(matrix)\n",
        "\n",
        "    output_rows = output_size(matrix_breadth, kernel_breadth,1)\n",
        "    output_cols = output_size(matrix_length, kernel_length,1)\n",
        "    output = np.empty([output_rows, output_cols])\n",
        "\n",
        "    for i in range(output_rows):\n",
        "        for j in range(output_cols):\n",
        "            sub_matrix = matrix[i:i+kernel_breadth, j:j+kernel_length]\n",
        "            output[i, j] = np.sum(sub_matrix * kernel) #simple convolution: takes dot-product b/w sub-matrix and kernel\n",
        "\n",
        "    return output\n"
      ],
      "metadata": {
        "id": "xQ70ohnqOgVO"
      },
      "execution_count": 88,
      "outputs": []
    },
    {
      "cell_type": "code",
      "source": [
        "print(convolution(matrix1,kernel1))"
      ],
      "metadata": {
        "colab": {
          "base_uri": "https://localhost:8080/"
        },
        "id": "j3DaepixXpo8",
        "outputId": "4aa58e57-c5a3-4e55-96eb-48da870acdbb"
      },
      "execution_count": 89,
      "outputs": [
        {
          "output_type": "stream",
          "name": "stdout",
          "text": [
            "[[ 40.4  49.   57.6]\n",
            " [ 74.8  83.4  92. ]\n",
            " [109.2 117.8 126.4]]\n"
          ]
        }
      ]
    },
    {
      "cell_type": "markdown",
      "source": [
        "### Max-pooling operation"
      ],
      "metadata": {
        "id": "gr-RuNTodMYf"
      }
    },
    {
      "cell_type": "code",
      "source": [
        "def max_pooling(matrix, kernel):\n",
        "    matrix = np.array(matrix)\n",
        "    kernel = np.array(kernel)\n",
        "\n",
        "    kernel_length = len(kernel[0])\n",
        "    kernel_breadth = len(kernel)\n",
        "    matrix_length = len(matrix[0])\n",
        "    matrix_breadth = len(matrix)\n",
        "\n",
        "    output_rows = output_size(matrix_breadth, kernel_breadth,1)\n",
        "    output_cols = output_size(matrix_length, kernel_length,1)\n",
        "    output = np.empty([output_rows, output_cols])\n",
        "\n",
        "    for i in range(output_rows):\n",
        "        for j in range(output_cols):\n",
        "            sub_matrix = matrix[i:i+kernel_breadth, j:j+kernel_length]\n",
        "            output[i, j] = np.max(sub_matrix)    #taking maximum of the sub-matrix\n",
        "\n",
        "    return output\n"
      ],
      "metadata": {
        "id": "qwx-kgApcpxw"
      },
      "execution_count": 103,
      "outputs": []
    },
    {
      "cell_type": "code",
      "source": [
        "print(\"matrix1: \")\n",
        "print(matrix1)"
      ],
      "metadata": {
        "colab": {
          "base_uri": "https://localhost:8080/"
        },
        "id": "h_PW-Bz1dx_R",
        "outputId": "fcb026da-18f9-477d-f043-ad8fd4d78372"
      },
      "execution_count": 109,
      "outputs": [
        {
          "output_type": "stream",
          "name": "stdout",
          "text": [
            "matrix1: \n",
            "[[ 0  1  2  3]\n",
            " [ 4  5  6  7]\n",
            " [ 8  9 10 11]\n",
            " [12 13 14 15]]\n"
          ]
        }
      ]
    },
    {
      "cell_type": "code",
      "source": [
        "print(\"max_pooling operation: \")\n",
        "print(max_pooling(matrix1,kernel1))"
      ],
      "metadata": {
        "colab": {
          "base_uri": "https://localhost:8080/"
        },
        "id": "6FQi6Fyxdl8H",
        "outputId": "8d4a0e36-f5a8-46d4-f694-c4fce5a7e996"
      },
      "execution_count": 110,
      "outputs": [
        {
          "output_type": "stream",
          "name": "stdout",
          "text": [
            "max_pooling operation: \n",
            "[[ 5.  6.  7.]\n",
            " [ 9. 10. 11.]\n",
            " [13. 14. 15.]]\n"
          ]
        }
      ]
    },
    {
      "cell_type": "markdown",
      "source": [
        "### Average-pooling takes the average of the sub-matrix"
      ],
      "metadata": {
        "id": "-aIdvtK_eaEi"
      }
    }
  ]
}
